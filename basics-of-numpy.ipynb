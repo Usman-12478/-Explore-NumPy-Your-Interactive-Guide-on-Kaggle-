{
 "cells": [
  {
   "cell_type": "code",
   "execution_count": 1,
   "id": "5450c970",
   "metadata": {
    "execution": {
     "iopub.execute_input": "2024-11-05T10:39:22.917001Z",
     "iopub.status.busy": "2024-11-05T10:39:22.916531Z",
     "iopub.status.idle": "2024-11-05T10:39:22.930324Z",
     "shell.execute_reply": "2024-11-05T10:39:22.929211Z"
    },
    "papermill": {
     "duration": 0.031784,
     "end_time": "2024-11-05T10:39:22.932829",
     "exception": false,
     "start_time": "2024-11-05T10:39:22.901045",
     "status": "completed"
    },
    "tags": []
   },
   "outputs": [],
   "source": [
    "import numpy as np"
   ]
  },
  {
   "cell_type": "code",
   "execution_count": 2,
   "id": "c9e3fecd",
   "metadata": {
    "execution": {
     "iopub.execute_input": "2024-11-05T10:39:22.961435Z",
     "iopub.status.busy": "2024-11-05T10:39:22.960919Z",
     "iopub.status.idle": "2024-11-05T10:39:22.968700Z",
     "shell.execute_reply": "2024-11-05T10:39:22.967605Z"
    },
    "papermill": {
     "duration": 0.025314,
     "end_time": "2024-11-05T10:39:22.971557",
     "exception": false,
     "start_time": "2024-11-05T10:39:22.946243",
     "status": "completed"
    },
    "tags": []
   },
   "outputs": [
    {
     "name": "stdout",
     "output_type": "stream",
     "text": [
      "[1 2 3 4 5] <class 'numpy.ndarray'>\n"
     ]
    }
   ],
   "source": [
    "arr = np.array([1,2,3,4,5])\n",
    "print(arr, type(arr))"
   ]
  },
  {
   "cell_type": "code",
   "execution_count": 3,
   "id": "7e0cdf2d",
   "metadata": {
    "execution": {
     "iopub.execute_input": "2024-11-05T10:39:23.000545Z",
     "iopub.status.busy": "2024-11-05T10:39:23.000064Z",
     "iopub.status.idle": "2024-11-05T10:39:23.010825Z",
     "shell.execute_reply": "2024-11-05T10:39:23.009610Z"
    },
    "papermill": {
     "duration": 0.028052,
     "end_time": "2024-11-05T10:39:23.013152",
     "exception": false,
     "start_time": "2024-11-05T10:39:22.985100",
     "status": "completed"
    },
    "tags": []
   },
   "outputs": [
    {
     "data": {
      "text/plain": [
       "(array([[ 1,  2,  3,  4,  5],\n",
       "        [ 6,  7,  8,  9, 10],\n",
       "        [11, 12, 13, 14, 15]]),\n",
       " numpy.ndarray)"
      ]
     },
     "execution_count": 3,
     "metadata": {},
     "output_type": "execute_result"
    }
   ],
   "source": [
    "matrix = np.array([[1,2,3,4,5],[6,7,8,9,10],[11,12,13,14,15]])\n",
    "matrix, type(matrix)"
   ]
  },
  {
   "cell_type": "code",
   "execution_count": 4,
   "id": "a08cad3a",
   "metadata": {
    "execution": {
     "iopub.execute_input": "2024-11-05T10:39:23.041779Z",
     "iopub.status.busy": "2024-11-05T10:39:23.041315Z",
     "iopub.status.idle": "2024-11-05T10:39:23.048640Z",
     "shell.execute_reply": "2024-11-05T10:39:23.047550Z"
    },
    "papermill": {
     "duration": 0.024605,
     "end_time": "2024-11-05T10:39:23.051056",
     "exception": false,
     "start_time": "2024-11-05T10:39:23.026451",
     "status": "completed"
    },
    "tags": []
   },
   "outputs": [
    {
     "data": {
      "text/plain": [
       "(3, 5)"
      ]
     },
     "execution_count": 4,
     "metadata": {},
     "output_type": "execute_result"
    }
   ],
   "source": [
    "matrix.shape"
   ]
  },
  {
   "cell_type": "code",
   "execution_count": 5,
   "id": "94fa352f",
   "metadata": {
    "execution": {
     "iopub.execute_input": "2024-11-05T10:39:23.080848Z",
     "iopub.status.busy": "2024-11-05T10:39:23.080084Z",
     "iopub.status.idle": "2024-11-05T10:39:23.087829Z",
     "shell.execute_reply": "2024-11-05T10:39:23.086791Z"
    },
    "papermill": {
     "duration": 0.025622,
     "end_time": "2024-11-05T10:39:23.090233",
     "exception": false,
     "start_time": "2024-11-05T10:39:23.064611",
     "status": "completed"
    },
    "tags": []
   },
   "outputs": [
    {
     "data": {
      "text/plain": [
       "array([[0., 0., 0.],\n",
       "       [0., 0., 0.],\n",
       "       [0., 0., 0.]])"
      ]
     },
     "execution_count": 5,
     "metadata": {},
     "output_type": "execute_result"
    }
   ],
   "source": [
    "zeros_array = np.zeros((3,3))\n",
    "zeros_array"
   ]
  },
  {
   "cell_type": "code",
   "execution_count": 6,
   "id": "5cbd47d6",
   "metadata": {
    "execution": {
     "iopub.execute_input": "2024-11-05T10:39:23.119493Z",
     "iopub.status.busy": "2024-11-05T10:39:23.119025Z",
     "iopub.status.idle": "2024-11-05T10:39:23.127419Z",
     "shell.execute_reply": "2024-11-05T10:39:23.126230Z"
    },
    "papermill": {
     "duration": 0.025943,
     "end_time": "2024-11-05T10:39:23.129711",
     "exception": false,
     "start_time": "2024-11-05T10:39:23.103768",
     "status": "completed"
    },
    "tags": []
   },
   "outputs": [
    {
     "data": {
      "text/plain": [
       "array([[1., 1., 1., 1.],\n",
       "       [1., 1., 1., 1.],\n",
       "       [1., 1., 1., 1.]])"
      ]
     },
     "execution_count": 6,
     "metadata": {},
     "output_type": "execute_result"
    }
   ],
   "source": [
    "ones_array = np.ones((3,4))\n",
    "ones_array"
   ]
  },
  {
   "cell_type": "code",
   "execution_count": 7,
   "id": "1c5c46c2",
   "metadata": {
    "execution": {
     "iopub.execute_input": "2024-11-05T10:39:23.159441Z",
     "iopub.status.busy": "2024-11-05T10:39:23.158979Z",
     "iopub.status.idle": "2024-11-05T10:39:23.166475Z",
     "shell.execute_reply": "2024-11-05T10:39:23.165315Z"
    },
    "papermill": {
     "duration": 0.025916,
     "end_time": "2024-11-05T10:39:23.169188",
     "exception": false,
     "start_time": "2024-11-05T10:39:23.143272",
     "status": "completed"
    },
    "tags": []
   },
   "outputs": [
    {
     "data": {
      "text/plain": [
       "array([0, 1, 2, 3, 4, 5, 6, 7, 8, 9])"
      ]
     },
     "execution_count": 7,
     "metadata": {},
     "output_type": "execute_result"
    }
   ],
   "source": [
    "range_array  = np.arange(10)\n",
    "range_array"
   ]
  },
  {
   "cell_type": "code",
   "execution_count": 8,
   "id": "32a998f5",
   "metadata": {
    "execution": {
     "iopub.execute_input": "2024-11-05T10:39:23.199900Z",
     "iopub.status.busy": "2024-11-05T10:39:23.198836Z",
     "iopub.status.idle": "2024-11-05T10:39:23.206924Z",
     "shell.execute_reply": "2024-11-05T10:39:23.205854Z"
    },
    "papermill": {
     "duration": 0.026586,
     "end_time": "2024-11-05T10:39:23.209707",
     "exception": false,
     "start_time": "2024-11-05T10:39:23.183121",
     "status": "completed"
    },
    "tags": []
   },
   "outputs": [
    {
     "data": {
      "text/plain": [
       "(array([[1., 0., 0.],\n",
       "        [0., 1., 0.],\n",
       "        [0., 0., 1.]]),\n",
       " numpy.ndarray)"
      ]
     },
     "execution_count": 8,
     "metadata": {},
     "output_type": "execute_result"
    }
   ],
   "source": [
    "identity_matrix = np.eye(3)\n",
    "identity_matrix, type(identity_matrix)"
   ]
  },
  {
   "cell_type": "code",
   "execution_count": 9,
   "id": "80ff6cd5",
   "metadata": {
    "execution": {
     "iopub.execute_input": "2024-11-05T10:39:23.239764Z",
     "iopub.status.busy": "2024-11-05T10:39:23.239314Z",
     "iopub.status.idle": "2024-11-05T10:39:23.247354Z",
     "shell.execute_reply": "2024-11-05T10:39:23.246377Z"
    },
    "papermill": {
     "duration": 0.0263,
     "end_time": "2024-11-05T10:39:23.249947",
     "exception": false,
     "start_time": "2024-11-05T10:39:23.223647",
     "status": "completed"
    },
    "tags": []
   },
   "outputs": [
    {
     "data": {
      "text/plain": [
       "array([ 5, 10, 15, 20, 25, 30, 35, 40, 45])"
      ]
     },
     "execution_count": 9,
     "metadata": {},
     "output_type": "execute_result"
    }
   ],
   "source": [
    "range_array_step = np.arange(5,50,5)\n",
    "range_array_step"
   ]
  },
  {
   "cell_type": "code",
   "execution_count": 10,
   "id": "9f9037c0",
   "metadata": {
    "execution": {
     "iopub.execute_input": "2024-11-05T10:39:23.280512Z",
     "iopub.status.busy": "2024-11-05T10:39:23.279497Z",
     "iopub.status.idle": "2024-11-05T10:39:23.287207Z",
     "shell.execute_reply": "2024-11-05T10:39:23.286157Z"
    },
    "papermill": {
     "duration": 0.02581,
     "end_time": "2024-11-05T10:39:23.289661",
     "exception": false,
     "start_time": "2024-11-05T10:39:23.263851",
     "status": "completed"
    },
    "tags": []
   },
   "outputs": [
    {
     "data": {
      "text/plain": [
       "array([ 2,  4,  6,  8, 10, 12, 14, 16, 18, 20, 22, 24, 26, 28, 30, 32, 34,\n",
       "       36, 38])"
      ]
     },
     "execution_count": 10,
     "metadata": {},
     "output_type": "execute_result"
    }
   ],
   "source": [
    "range_array_steps = np.arange(2,40,2)\n",
    "range_array_steps"
   ]
  },
  {
   "cell_type": "code",
   "execution_count": 11,
   "id": "b9548fcf",
   "metadata": {
    "execution": {
     "iopub.execute_input": "2024-11-05T10:39:23.320532Z",
     "iopub.status.busy": "2024-11-05T10:39:23.319516Z",
     "iopub.status.idle": "2024-11-05T10:39:23.327688Z",
     "shell.execute_reply": "2024-11-05T10:39:23.326576Z"
    },
    "papermill": {
     "duration": 0.026493,
     "end_time": "2024-11-05T10:39:23.330148",
     "exception": false,
     "start_time": "2024-11-05T10:39:23.303655",
     "status": "completed"
    },
    "tags": []
   },
   "outputs": [
    {
     "data": {
      "text/plain": [
       "array([0.  , 0.25, 0.5 , 0.75, 1.  ])"
      ]
     },
     "execution_count": 11,
     "metadata": {},
     "output_type": "execute_result"
    }
   ],
   "source": [
    "linspace_array = np.linspace(0,1,5)\n",
    "linspace_array"
   ]
  },
  {
   "cell_type": "code",
   "execution_count": 12,
   "id": "0d3256a1",
   "metadata": {
    "execution": {
     "iopub.execute_input": "2024-11-05T10:39:23.361665Z",
     "iopub.status.busy": "2024-11-05T10:39:23.360623Z",
     "iopub.status.idle": "2024-11-05T10:39:23.368985Z",
     "shell.execute_reply": "2024-11-05T10:39:23.367873Z"
    },
    "papermill": {
     "duration": 0.02691,
     "end_time": "2024-11-05T10:39:23.371523",
     "exception": false,
     "start_time": "2024-11-05T10:39:23.344613",
     "status": "completed"
    },
    "tags": []
   },
   "outputs": [
    {
     "data": {
      "text/plain": [
       "(array([0.        , 0.55555556, 1.11111111, 1.66666667, 2.22222222,\n",
       "        2.77777778, 3.33333333, 3.88888889, 4.44444444, 5.        ]),\n",
       " numpy.ndarray)"
      ]
     },
     "execution_count": 12,
     "metadata": {},
     "output_type": "execute_result"
    }
   ],
   "source": [
    "linspace_array = np.linspace(0,5,10)\n",
    "linspace_array, type(linspace_array)"
   ]
  },
  {
   "cell_type": "code",
   "execution_count": 13,
   "id": "c7c3b662",
   "metadata": {
    "execution": {
     "iopub.execute_input": "2024-11-05T10:39:23.403181Z",
     "iopub.status.busy": "2024-11-05T10:39:23.402747Z",
     "iopub.status.idle": "2024-11-05T10:39:23.413183Z",
     "shell.execute_reply": "2024-11-05T10:39:23.412094Z"
    },
    "papermill": {
     "duration": 0.029061,
     "end_time": "2024-11-05T10:39:23.415548",
     "exception": false,
     "start_time": "2024-11-05T10:39:23.386487",
     "status": "completed"
    },
    "tags": []
   },
   "outputs": [
    {
     "data": {
      "text/plain": [
       "array([[ 1,  2,  3,  4,  6],\n",
       "       [ 5,  7,  8,  9, 10]])"
      ]
     },
     "execution_count": 13,
     "metadata": {},
     "output_type": "execute_result"
    }
   ],
   "source": [
    "array = np.array([1,2,3,4,6,5,7,8,9,10])\n",
    "reshaped_matrix = array.reshape(2,5)\n",
    "reshaped_matrix"
   ]
  },
  {
   "cell_type": "code",
   "execution_count": 14,
   "id": "2f4c52ed",
   "metadata": {
    "execution": {
     "iopub.execute_input": "2024-11-05T10:39:23.447458Z",
     "iopub.status.busy": "2024-11-05T10:39:23.446988Z",
     "iopub.status.idle": "2024-11-05T10:39:23.454546Z",
     "shell.execute_reply": "2024-11-05T10:39:23.453567Z"
    },
    "papermill": {
     "duration": 0.026297,
     "end_time": "2024-11-05T10:39:23.456909",
     "exception": false,
     "start_time": "2024-11-05T10:39:23.430612",
     "status": "completed"
    },
    "tags": []
   },
   "outputs": [
    {
     "data": {
      "text/plain": [
       "array([[ 1,  2],\n",
       "       [ 3,  4],\n",
       "       [ 6,  5],\n",
       "       [ 7,  8],\n",
       "       [ 9, 10]])"
      ]
     },
     "execution_count": 14,
     "metadata": {},
     "output_type": "execute_result"
    }
   ],
   "source": [
    "reshape_matrix = array.reshape(5,2)\n",
    "reshape_matrix"
   ]
  },
  {
   "cell_type": "code",
   "execution_count": 15,
   "id": "ad6b76db",
   "metadata": {
    "execution": {
     "iopub.execute_input": "2024-11-05T10:39:23.489231Z",
     "iopub.status.busy": "2024-11-05T10:39:23.488758Z",
     "iopub.status.idle": "2024-11-05T10:39:23.496202Z",
     "shell.execute_reply": "2024-11-05T10:39:23.495253Z"
    },
    "papermill": {
     "duration": 0.026458,
     "end_time": "2024-11-05T10:39:23.498446",
     "exception": false,
     "start_time": "2024-11-05T10:39:23.471988",
     "status": "completed"
    },
    "tags": []
   },
   "outputs": [
    {
     "data": {
      "text/plain": [
       "array([ 1,  2,  3,  4,  6,  5,  7,  8,  9, 10])"
      ]
     },
     "execution_count": 15,
     "metadata": {},
     "output_type": "execute_result"
    }
   ],
   "source": [
    "flattened_array = array.flatten()\n",
    "flattened_array"
   ]
  },
  {
   "cell_type": "code",
   "execution_count": 16,
   "id": "f4eedf4d",
   "metadata": {
    "execution": {
     "iopub.execute_input": "2024-11-05T10:39:23.530649Z",
     "iopub.status.busy": "2024-11-05T10:39:23.529616Z",
     "iopub.status.idle": "2024-11-05T10:39:23.537314Z",
     "shell.execute_reply": "2024-11-05T10:39:23.536240Z"
    },
    "papermill": {
     "duration": 0.026695,
     "end_time": "2024-11-05T10:39:23.539923",
     "exception": false,
     "start_time": "2024-11-05T10:39:23.513228",
     "status": "completed"
    },
    "tags": []
   },
   "outputs": [
    {
     "data": {
      "text/plain": [
       "array([ 1,  2,  3,  4,  5,  6,  7,  8,  9, 10])"
      ]
     },
     "execution_count": 16,
     "metadata": {},
     "output_type": "execute_result"
    }
   ],
   "source": [
    "array_c = np.array([1,2,3,4,5,6,7,8,9,10])\n",
    "array_c"
   ]
  },
  {
   "cell_type": "code",
   "execution_count": 17,
   "id": "8c687ff8",
   "metadata": {
    "execution": {
     "iopub.execute_input": "2024-11-05T10:39:23.572424Z",
     "iopub.status.busy": "2024-11-05T10:39:23.571978Z",
     "iopub.status.idle": "2024-11-05T10:39:23.579485Z",
     "shell.execute_reply": "2024-11-05T10:39:23.578421Z"
    },
    "papermill": {
     "duration": 0.026708,
     "end_time": "2024-11-05T10:39:23.581814",
     "exception": false,
     "start_time": "2024-11-05T10:39:23.555106",
     "status": "completed"
    },
    "tags": []
   },
   "outputs": [
    {
     "data": {
      "text/plain": [
       "array([ 1,  2,  3,  4,  5,  6,  7,  8,  9, 10])"
      ]
     },
     "execution_count": 17,
     "metadata": {},
     "output_type": "execute_result"
    }
   ],
   "source": [
    "flattened_array = array_c.flatten()\n",
    "array_c "
   ]
  },
  {
   "cell_type": "code",
   "execution_count": 18,
   "id": "f7c049fe",
   "metadata": {
    "execution": {
     "iopub.execute_input": "2024-11-05T10:39:23.614894Z",
     "iopub.status.busy": "2024-11-05T10:39:23.614028Z",
     "iopub.status.idle": "2024-11-05T10:39:23.622578Z",
     "shell.execute_reply": "2024-11-05T10:39:23.621481Z"
    },
    "papermill": {
     "duration": 0.027655,
     "end_time": "2024-11-05T10:39:23.624926",
     "exception": false,
     "start_time": "2024-11-05T10:39:23.597271",
     "status": "completed"
    },
    "tags": []
   },
   "outputs": [
    {
     "data": {
      "text/plain": [
       "array([ 1,  2,  3,  4,  5,  6,  7,  8,  9, 10, 11, 12, 13, 14, 15])"
      ]
     },
     "execution_count": 18,
     "metadata": {},
     "output_type": "execute_result"
    }
   ],
   "source": [
    "array = np.array([1,2,3,4,5,6,7,8,9,10,11,12,13,14,15])\n",
    "flattened_array = array.flatten()\n",
    "flattened_array"
   ]
  },
  {
   "cell_type": "code",
   "execution_count": 19,
   "id": "b5216ac0",
   "metadata": {
    "execution": {
     "iopub.execute_input": "2024-11-05T10:39:23.658244Z",
     "iopub.status.busy": "2024-11-05T10:39:23.657261Z",
     "iopub.status.idle": "2024-11-05T10:39:23.664738Z",
     "shell.execute_reply": "2024-11-05T10:39:23.663611Z"
    },
    "papermill": {
     "duration": 0.026668,
     "end_time": "2024-11-05T10:39:23.667160",
     "exception": false,
     "start_time": "2024-11-05T10:39:23.640492",
     "status": "completed"
    },
    "tags": []
   },
   "outputs": [
    {
     "data": {
      "text/plain": [
       "1"
      ]
     },
     "execution_count": 19,
     "metadata": {},
     "output_type": "execute_result"
    }
   ],
   "source": [
    "flattened_array_min = array.min()\n",
    "flattened_array_min"
   ]
  },
  {
   "cell_type": "code",
   "execution_count": 20,
   "id": "394307c3",
   "metadata": {
    "execution": {
     "iopub.execute_input": "2024-11-05T10:39:23.700734Z",
     "iopub.status.busy": "2024-11-05T10:39:23.699931Z",
     "iopub.status.idle": "2024-11-05T10:39:23.707445Z",
     "shell.execute_reply": "2024-11-05T10:39:23.706319Z"
    },
    "papermill": {
     "duration": 0.027323,
     "end_time": "2024-11-05T10:39:23.710044",
     "exception": false,
     "start_time": "2024-11-05T10:39:23.682721",
     "status": "completed"
    },
    "tags": []
   },
   "outputs": [
    {
     "data": {
      "text/plain": [
       "15"
      ]
     },
     "execution_count": 20,
     "metadata": {},
     "output_type": "execute_result"
    }
   ],
   "source": [
    "flattened_array_max = array.max()\n",
    "flattened_array_max"
   ]
  },
  {
   "cell_type": "code",
   "execution_count": 21,
   "id": "4e2dd7f9",
   "metadata": {
    "execution": {
     "iopub.execute_input": "2024-11-05T10:39:23.745308Z",
     "iopub.status.busy": "2024-11-05T10:39:23.744202Z",
     "iopub.status.idle": "2024-11-05T10:39:23.751402Z",
     "shell.execute_reply": "2024-11-05T10:39:23.750398Z"
    },
    "papermill": {
     "duration": 0.02744,
     "end_time": "2024-11-05T10:39:23.753645",
     "exception": false,
     "start_time": "2024-11-05T10:39:23.726205",
     "status": "completed"
    },
    "tags": []
   },
   "outputs": [
    {
     "data": {
      "text/plain": [
       "(1, 15)"
      ]
     },
     "execution_count": 21,
     "metadata": {},
     "output_type": "execute_result"
    }
   ],
   "source": [
    "flattened_array_min, flattened_array_max"
   ]
  },
  {
   "cell_type": "code",
   "execution_count": 22,
   "id": "e6f53b73",
   "metadata": {
    "execution": {
     "iopub.execute_input": "2024-11-05T10:39:23.786757Z",
     "iopub.status.busy": "2024-11-05T10:39:23.786291Z",
     "iopub.status.idle": "2024-11-05T10:39:23.792701Z",
     "shell.execute_reply": "2024-11-05T10:39:23.791696Z"
    },
    "papermill": {
     "duration": 0.026271,
     "end_time": "2024-11-05T10:39:23.795566",
     "exception": false,
     "start_time": "2024-11-05T10:39:23.769295",
     "status": "completed"
    },
    "tags": []
   },
   "outputs": [
    {
     "name": "stdout",
     "output_type": "stream",
     "text": [
      "[ 1  2  3  4  5  6  7  8  9 10]\n"
     ]
    }
   ],
   "source": [
    "array_X = np.array([1,2,3,4,5,6,7,8,9,10])\n",
    "print(array_X)"
   ]
  },
  {
   "cell_type": "code",
   "execution_count": 23,
   "id": "a03943ae",
   "metadata": {
    "execution": {
     "iopub.execute_input": "2024-11-05T10:39:23.830632Z",
     "iopub.status.busy": "2024-11-05T10:39:23.829792Z",
     "iopub.status.idle": "2024-11-05T10:39:23.837270Z",
     "shell.execute_reply": "2024-11-05T10:39:23.836210Z"
    },
    "papermill": {
     "duration": 0.027926,
     "end_time": "2024-11-05T10:39:23.839740",
     "exception": false,
     "start_time": "2024-11-05T10:39:23.811814",
     "status": "completed"
    },
    "tags": []
   },
   "outputs": [
    {
     "data": {
      "text/plain": [
       "5.5"
      ]
     },
     "execution_count": 23,
     "metadata": {},
     "output_type": "execute_result"
    }
   ],
   "source": [
    "mean_value = array_X.mean()\n",
    "mean_value"
   ]
  },
  {
   "cell_type": "code",
   "execution_count": 24,
   "id": "191a2442",
   "metadata": {
    "execution": {
     "iopub.execute_input": "2024-11-05T10:39:23.874097Z",
     "iopub.status.busy": "2024-11-05T10:39:23.873656Z",
     "iopub.status.idle": "2024-11-05T10:39:23.881084Z",
     "shell.execute_reply": "2024-11-05T10:39:23.880027Z"
    },
    "papermill": {
     "duration": 0.027687,
     "end_time": "2024-11-05T10:39:23.883579",
     "exception": false,
     "start_time": "2024-11-05T10:39:23.855892",
     "status": "completed"
    },
    "tags": []
   },
   "outputs": [
    {
     "data": {
      "text/plain": [
       "2.8722813232690143"
      ]
     },
     "execution_count": 24,
     "metadata": {},
     "output_type": "execute_result"
    }
   ],
   "source": [
    "std_dev = array_X.std()\n",
    "std_dev"
   ]
  },
  {
   "cell_type": "code",
   "execution_count": 25,
   "id": "a4820764",
   "metadata": {
    "execution": {
     "iopub.execute_input": "2024-11-05T10:39:23.918473Z",
     "iopub.status.busy": "2024-11-05T10:39:23.918010Z",
     "iopub.status.idle": "2024-11-05T10:39:23.927529Z",
     "shell.execute_reply": "2024-11-05T10:39:23.926578Z"
    },
    "papermill": {
     "duration": 0.029586,
     "end_time": "2024-11-05T10:39:23.929952",
     "exception": false,
     "start_time": "2024-11-05T10:39:23.900366",
     "status": "completed"
    },
    "tags": []
   },
   "outputs": [
    {
     "data": {
      "text/plain": [
       "array([ 9, 11, 13, 15, 17, 19, 21])"
      ]
     },
     "execution_count": 25,
     "metadata": {},
     "output_type": "execute_result"
    }
   ],
   "source": [
    "array_1 = np.array([1,2,3,4,5,6,7])\n",
    "array_2 = np.array([8,9,10,11,12,13,14])\n",
    "sum_array = array_1 + array_2\n",
    "sum_array"
   ]
  },
  {
   "cell_type": "code",
   "execution_count": 26,
   "id": "a15db640",
   "metadata": {
    "execution": {
     "iopub.execute_input": "2024-11-05T10:39:23.966527Z",
     "iopub.status.busy": "2024-11-05T10:39:23.965138Z",
     "iopub.status.idle": "2024-11-05T10:39:23.973885Z",
     "shell.execute_reply": "2024-11-05T10:39:23.972878Z"
    },
    "papermill": {
     "duration": 0.029708,
     "end_time": "2024-11-05T10:39:23.976308",
     "exception": false,
     "start_time": "2024-11-05T10:39:23.946600",
     "status": "completed"
    },
    "tags": []
   },
   "outputs": [
    {
     "data": {
      "text/plain": [
       "array([ 5,  3,  1, -1, -3, -5])"
      ]
     },
     "execution_count": 26,
     "metadata": {},
     "output_type": "execute_result"
    }
   ],
   "source": [
    "array_2 = np.array([1,2,3,4,5,6])\n",
    "array_3 = np.array([6,5,4,3,2,1])\n",
    "difference_array = array_3 - array_2\n",
    "difference_array"
   ]
  },
  {
   "cell_type": "code",
   "execution_count": 27,
   "id": "1ed92a08",
   "metadata": {
    "execution": {
     "iopub.execute_input": "2024-11-05T10:39:24.100025Z",
     "iopub.status.busy": "2024-11-05T10:39:24.099554Z",
     "iopub.status.idle": "2024-11-05T10:39:24.107779Z",
     "shell.execute_reply": "2024-11-05T10:39:24.106725Z"
    },
    "papermill": {
     "duration": 0.029432,
     "end_time": "2024-11-05T10:39:24.110589",
     "exception": false,
     "start_time": "2024-11-05T10:39:24.081157",
     "status": "completed"
    },
    "tags": []
   },
   "outputs": [
    {
     "data": {
      "text/plain": [
       "array([ 7, 12, 15, 16, 15, 12,  7])"
      ]
     },
     "execution_count": 27,
     "metadata": {},
     "output_type": "execute_result"
    }
   ],
   "source": [
    "array_4 = np.array([1,2,3,4,5,6,7])\n",
    "array_5 = np.array([7,6,5,4,3,2,1])\n",
    "product_array = array_4 * array_5\n",
    "product_array"
   ]
  },
  {
   "cell_type": "code",
   "execution_count": 28,
   "id": "5a0ba0e4",
   "metadata": {
    "execution": {
     "iopub.execute_input": "2024-11-05T10:39:24.146628Z",
     "iopub.status.busy": "2024-11-05T10:39:24.145849Z",
     "iopub.status.idle": "2024-11-05T10:39:24.155038Z",
     "shell.execute_reply": "2024-11-05T10:39:24.154003Z"
    },
    "papermill": {
     "duration": 0.030051,
     "end_time": "2024-11-05T10:39:24.157428",
     "exception": false,
     "start_time": "2024-11-05T10:39:24.127377",
     "status": "completed"
    },
    "tags": []
   },
   "outputs": [
    {
     "data": {
      "text/plain": [
       "array([9.        , 4.        , 2.33333333, 1.5       , 1.        ,\n",
       "       0.66666667, 0.42857143, 0.25      , 0.11111111])"
      ]
     },
     "execution_count": 28,
     "metadata": {},
     "output_type": "execute_result"
    }
   ],
   "source": [
    "array_6 = np.array([1,2,3,4,5,6,7,8,9])\n",
    "array_7 = np.array([9,8,7,6,5,4,3,2,1])\n",
    "divide_array = array_7 / array_6\n",
    "divide_array"
   ]
  },
  {
   "cell_type": "code",
   "execution_count": 29,
   "id": "77dfdb18",
   "metadata": {
    "execution": {
     "iopub.execute_input": "2024-11-05T10:39:24.195144Z",
     "iopub.status.busy": "2024-11-05T10:39:24.194229Z",
     "iopub.status.idle": "2024-11-05T10:39:24.202072Z",
     "shell.execute_reply": "2024-11-05T10:39:24.201024Z"
    },
    "papermill": {
     "duration": 0.02985,
     "end_time": "2024-11-05T10:39:24.205057",
     "exception": false,
     "start_time": "2024-11-05T10:39:24.175207",
     "status": "completed"
    },
    "tags": []
   },
   "outputs": [
    {
     "data": {
      "text/plain": [
       "array([11, 12, 13, 14, 15, 16, 17])"
      ]
     },
     "execution_count": 29,
     "metadata": {},
     "output_type": "execute_result"
    }
   ],
   "source": [
    "array_X = np.array([1,2,3,4,5,6,7])\n",
    "broadcasted_sum = array_X + 10\n",
    "broadcasted_sum"
   ]
  },
  {
   "cell_type": "code",
   "execution_count": 30,
   "id": "9c1cea24",
   "metadata": {
    "execution": {
     "iopub.execute_input": "2024-11-05T10:39:24.242233Z",
     "iopub.status.busy": "2024-11-05T10:39:24.240920Z",
     "iopub.status.idle": "2024-11-05T10:39:24.250036Z",
     "shell.execute_reply": "2024-11-05T10:39:24.248993Z"
    },
    "papermill": {
     "duration": 0.03022,
     "end_time": "2024-11-05T10:39:24.252465",
     "exception": false,
     "start_time": "2024-11-05T10:39:24.222245",
     "status": "completed"
    },
    "tags": []
   },
   "outputs": [
    {
     "data": {
      "text/plain": [
       "array([[19, 22],\n",
       "       [43, 50]])"
      ]
     },
     "execution_count": 30,
     "metadata": {},
     "output_type": "execute_result"
    }
   ],
   "source": [
    "matrix1 = np.array([[1,2],[3,4]])\n",
    "matrix2 = np.array([[5,6],[7,8]])\n",
    "dot_product = np.dot(matrix1, matrix2)\n",
    "dot_product"
   ]
  },
  {
   "cell_type": "code",
   "execution_count": 31,
   "id": "40d033c5",
   "metadata": {
    "execution": {
     "iopub.execute_input": "2024-11-05T10:39:24.289262Z",
     "iopub.status.busy": "2024-11-05T10:39:24.288828Z",
     "iopub.status.idle": "2024-11-05T10:39:24.297423Z",
     "shell.execute_reply": "2024-11-05T10:39:24.296389Z"
    },
    "papermill": {
     "duration": 0.030249,
     "end_time": "2024-11-05T10:39:24.300073",
     "exception": false,
     "start_time": "2024-11-05T10:39:24.269824",
     "status": "completed"
    },
    "tags": []
   },
   "outputs": [
    {
     "data": {
      "text/plain": [
       "array([[10,  6],\n",
       "       [36, 22]])"
      ]
     },
     "execution_count": 31,
     "metadata": {},
     "output_type": "execute_result"
    }
   ],
   "source": [
    "matrix3 = np.array([[1,2],[4,6]])\n",
    "matrix4 = np.array([[6,4],[2,1]])\n",
    "dot_product = np.dot(matrix3, matrix4)\n",
    "dot_product"
   ]
  },
  {
   "cell_type": "code",
   "execution_count": 32,
   "id": "e7769771",
   "metadata": {
    "execution": {
     "iopub.execute_input": "2024-11-05T10:39:24.337243Z",
     "iopub.status.busy": "2024-11-05T10:39:24.336795Z",
     "iopub.status.idle": "2024-11-05T10:39:24.344488Z",
     "shell.execute_reply": "2024-11-05T10:39:24.343485Z"
    },
    "papermill": {
     "duration": 0.029366,
     "end_time": "2024-11-05T10:39:24.347057",
     "exception": false,
     "start_time": "2024-11-05T10:39:24.317691",
     "status": "completed"
    },
    "tags": []
   },
   "outputs": [
    {
     "data": {
      "text/plain": [
       "5"
      ]
     },
     "execution_count": 32,
     "metadata": {},
     "output_type": "execute_result"
    }
   ],
   "source": [
    "array = np.array([1,2,3,4,5,6,7,8])\n",
    "array[4]\n"
   ]
  },
  {
   "cell_type": "code",
   "execution_count": 33,
   "id": "19f60589",
   "metadata": {
    "execution": {
     "iopub.execute_input": "2024-11-05T10:39:24.385402Z",
     "iopub.status.busy": "2024-11-05T10:39:24.384923Z",
     "iopub.status.idle": "2024-11-05T10:39:24.392196Z",
     "shell.execute_reply": "2024-11-05T10:39:24.391234Z"
    },
    "papermill": {
     "duration": 0.029845,
     "end_time": "2024-11-05T10:39:24.394989",
     "exception": false,
     "start_time": "2024-11-05T10:39:24.365144",
     "status": "completed"
    },
    "tags": []
   },
   "outputs": [
    {
     "data": {
      "text/plain": [
       "array([2, 3, 4])"
      ]
     },
     "execution_count": 33,
     "metadata": {},
     "output_type": "execute_result"
    }
   ],
   "source": [
    "sub_array = array[1:4]\n",
    "sub_array"
   ]
  },
  {
   "cell_type": "code",
   "execution_count": 34,
   "id": "7dd4eb6b",
   "metadata": {
    "execution": {
     "iopub.execute_input": "2024-11-05T10:39:24.434759Z",
     "iopub.status.busy": "2024-11-05T10:39:24.434318Z",
     "iopub.status.idle": "2024-11-05T10:39:24.442448Z",
     "shell.execute_reply": "2024-11-05T10:39:24.441053Z"
    },
    "papermill": {
     "duration": 0.032023,
     "end_time": "2024-11-05T10:39:24.445054",
     "exception": false,
     "start_time": "2024-11-05T10:39:24.413031",
     "status": "completed"
    },
    "tags": []
   },
   "outputs": [
    {
     "data": {
      "text/plain": [
       "array([[1, 2],\n",
       "       [3, 4]])"
      ]
     },
     "execution_count": 34,
     "metadata": {},
     "output_type": "execute_result"
    }
   ],
   "source": [
    "matrixX = np.array([[1,2],[3,4]])\n",
    "matrixX"
   ]
  },
  {
   "cell_type": "code",
   "execution_count": 35,
   "id": "1bccb7fa",
   "metadata": {
    "execution": {
     "iopub.execute_input": "2024-11-05T10:39:24.483156Z",
     "iopub.status.busy": "2024-11-05T10:39:24.482704Z",
     "iopub.status.idle": "2024-11-05T10:39:24.489841Z",
     "shell.execute_reply": "2024-11-05T10:39:24.488770Z"
    },
    "papermill": {
     "duration": 0.029968,
     "end_time": "2024-11-05T10:39:24.492922",
     "exception": false,
     "start_time": "2024-11-05T10:39:24.462954",
     "status": "completed"
    },
    "tags": []
   },
   "outputs": [
    {
     "data": {
      "text/plain": [
       "3"
      ]
     },
     "execution_count": 35,
     "metadata": {},
     "output_type": "execute_result"
    }
   ],
   "source": [
    "element_2d = matrixX[1,0]\n",
    "element_2d"
   ]
  },
  {
   "cell_type": "code",
   "execution_count": 36,
   "id": "3987f902",
   "metadata": {
    "execution": {
     "iopub.execute_input": "2024-11-05T10:39:24.531284Z",
     "iopub.status.busy": "2024-11-05T10:39:24.530827Z",
     "iopub.status.idle": "2024-11-05T10:39:24.538105Z",
     "shell.execute_reply": "2024-11-05T10:39:24.537009Z"
    },
    "papermill": {
     "duration": 0.02985,
     "end_time": "2024-11-05T10:39:24.540884",
     "exception": false,
     "start_time": "2024-11-05T10:39:24.511034",
     "status": "completed"
    },
    "tags": []
   },
   "outputs": [
    {
     "data": {
      "text/plain": [
       "2"
      ]
     },
     "execution_count": 36,
     "metadata": {},
     "output_type": "execute_result"
    }
   ],
   "source": [
    "element = matrixX[0,1]\n",
    "element"
   ]
  },
  {
   "cell_type": "code",
   "execution_count": 37,
   "id": "1220a526",
   "metadata": {
    "execution": {
     "iopub.execute_input": "2024-11-05T10:39:24.579617Z",
     "iopub.status.busy": "2024-11-05T10:39:24.579154Z",
     "iopub.status.idle": "2024-11-05T10:39:24.587380Z",
     "shell.execute_reply": "2024-11-05T10:39:24.586382Z"
    },
    "papermill": {
     "duration": 0.030801,
     "end_time": "2024-11-05T10:39:24.589967",
     "exception": false,
     "start_time": "2024-11-05T10:39:24.559166",
     "status": "completed"
    },
    "tags": []
   },
   "outputs": [
    {
     "data": {
      "text/plain": [
       "array([False, False, False,  True,  True,  True,  True,  True,  True,\n",
       "        True])"
      ]
     },
     "execution_count": 37,
     "metadata": {},
     "output_type": "execute_result"
    }
   ],
   "source": [
    "matrix1 = np.array([1,2,3,4,5,6,7,8,9,10])\n",
    "selected_values = matrix1 > 3\n",
    "selected_values"
   ]
  },
  {
   "cell_type": "code",
   "execution_count": 38,
   "id": "094986fa",
   "metadata": {
    "execution": {
     "iopub.execute_input": "2024-11-05T10:39:24.631424Z",
     "iopub.status.busy": "2024-11-05T10:39:24.630224Z",
     "iopub.status.idle": "2024-11-05T10:39:24.637890Z",
     "shell.execute_reply": "2024-11-05T10:39:24.636879Z"
    },
    "papermill": {
     "duration": 0.031636,
     "end_time": "2024-11-05T10:39:24.640766",
     "exception": false,
     "start_time": "2024-11-05T10:39:24.609130",
     "status": "completed"
    },
    "tags": []
   },
   "outputs": [
    {
     "data": {
      "text/plain": [
       "array([ 4,  5,  6,  7,  8,  9, 10])"
      ]
     },
     "execution_count": 38,
     "metadata": {},
     "output_type": "execute_result"
    }
   ],
   "source": [
    "selectedvalue = matrix1[matrix1 > 3]\n",
    "selectedvalue"
   ]
  },
  {
   "cell_type": "code",
   "execution_count": 39,
   "id": "02963905",
   "metadata": {
    "execution": {
     "iopub.execute_input": "2024-11-05T10:39:24.680836Z",
     "iopub.status.busy": "2024-11-05T10:39:24.679806Z",
     "iopub.status.idle": "2024-11-05T10:39:24.687476Z",
     "shell.execute_reply": "2024-11-05T10:39:24.686391Z"
    },
    "papermill": {
     "duration": 0.03031,
     "end_time": "2024-11-05T10:39:24.689817",
     "exception": false,
     "start_time": "2024-11-05T10:39:24.659507",
     "status": "completed"
    },
    "tags": []
   },
   "outputs": [
    {
     "data": {
      "text/plain": [
       "array([ 1,  2,  3, 99, 99, 99, 99, 99, 99, 99])"
      ]
     },
     "execution_count": 39,
     "metadata": {},
     "output_type": "execute_result"
    }
   ],
   "source": [
    "matrix1[matrix1 > 3] = 99\n",
    "matrix1"
   ]
  },
  {
   "cell_type": "code",
   "execution_count": 40,
   "id": "08e97c92",
   "metadata": {
    "execution": {
     "iopub.execute_input": "2024-11-05T10:39:24.730126Z",
     "iopub.status.busy": "2024-11-05T10:39:24.729241Z",
     "iopub.status.idle": "2024-11-05T10:39:24.737349Z",
     "shell.execute_reply": "2024-11-05T10:39:24.736355Z"
    },
    "papermill": {
     "duration": 0.031106,
     "end_time": "2024-11-05T10:39:24.739929",
     "exception": false,
     "start_time": "2024-11-05T10:39:24.708823",
     "status": "completed"
    },
    "tags": []
   },
   "outputs": [
    {
     "data": {
      "text/plain": [
       "array([[1, 2, 3],\n",
       "       [4, 5, 6],\n",
       "       [7, 8, 9]])"
      ]
     },
     "execution_count": 40,
     "metadata": {},
     "output_type": "execute_result"
    }
   ],
   "source": [
    "array_a = np.array([[1,2,3],[4,5,6],[7,8,9]])\n",
    "array_a"
   ]
  },
  {
   "cell_type": "code",
   "execution_count": null,
   "id": "fbd2f839",
   "metadata": {
    "papermill": {
     "duration": 0.018492,
     "end_time": "2024-11-05T10:39:24.777472",
     "exception": false,
     "start_time": "2024-11-05T10:39:24.758980",
     "status": "completed"
    },
    "tags": []
   },
   "outputs": [],
   "source": []
  }
 ],
 "metadata": {
  "kaggle": {
   "accelerator": "none",
   "dataSources": [],
   "dockerImageVersionId": 30732,
   "isGpuEnabled": false,
   "isInternetEnabled": false,
   "language": "python",
   "sourceType": "notebook"
  },
  "kernelspec": {
   "display_name": "Python 3",
   "language": "python",
   "name": "python3"
  },
  "language_info": {
   "codemirror_mode": {
    "name": "ipython",
    "version": 3
   },
   "file_extension": ".py",
   "mimetype": "text/x-python",
   "name": "python",
   "nbconvert_exporter": "python",
   "pygments_lexer": "ipython3",
   "version": "3.10.13"
  },
  "papermill": {
   "default_parameters": {},
   "duration": 5.940685,
   "end_time": "2024-11-05T10:39:25.218194",
   "environment_variables": {},
   "exception": null,
   "input_path": "__notebook__.ipynb",
   "output_path": "__notebook__.ipynb",
   "parameters": {},
   "start_time": "2024-11-05T10:39:19.277509",
   "version": "2.5.0"
  }
 },
 "nbformat": 4,
 "nbformat_minor": 5
}
